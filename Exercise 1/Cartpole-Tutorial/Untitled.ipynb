{
 "cells": [
  {
   "cell_type": "markdown",
   "metadata": {},
   "source": [
    "__Cartpole Tutorial__"
   ]
  },
  {
   "cell_type": "code",
   "execution_count": 23,
   "metadata": {},
   "outputs": [],
   "source": [
    "import numpy as np\n",
    "import gym\n",
    "\n",
    "\n",
    "def run_episode(env,parameters):\n",
    "        observation = env.reset()\n",
    "        total_reward = 0\n",
    "        for _ in range(200):\n",
    "            env.render()\n",
    "            if np.dot(parameters,observation)<0:\n",
    "                action=0\n",
    "            else:\n",
    "                action=1\n",
    "            observation, reward, done, info = env.step(action)\n",
    "            total_reward += reward\n",
    "            if done:\n",
    "                break\n",
    "        return total_reward\n"
   ]
  },
  {
   "cell_type": "code",
   "execution_count": 24,
   "metadata": {},
   "outputs": [
    {
     "name": "stdout",
     "output_type": "stream",
     "text": [
      "0\n",
      "13.0\n",
      "13.0\n",
      "56.0\n",
      "56.0\n",
      "56.0\n",
      "56.0\n",
      "131.0\n",
      "131.0\n",
      "131.0\n",
      "131.0\n",
      "131.0\n",
      "131.0\n",
      "180.0\n",
      "180.0\n",
      "Episodes needed:   14\n",
      "Best reward: 200.0\n",
      "Used parameters: 0.0397 0.2949 0.9934 0.8779\n"
     ]
    }
   ],
   "source": [
    "env = gym.make(\"CartPole-v0\")\n",
    "best_params = None\n",
    "best_reward = 0\n",
    "for episode in range(1000):\n",
    "    parameters = np.random.rand(4)*2-1\n",
    "    reward = run_episode(env,parameters)\n",
    "    print(best_reward)\n",
    "    if reward > best_reward:\n",
    "        best_reward = reward\n",
    "        best_params = parameters\n",
    "        if reward == 200:\n",
    "            print(\"Episodes needed: {:4d}\".format(episode))\n",
    "            print(\"Best reward: {}\".format(reward))\n",
    "            print(\"Used parameters: {:.4f} {:.4f} {:.4f} {:.4f}\"\n",
    "                  .format(best_params[0] ,best_params[1]\n",
    "                          ,best_params[2]\n",
    "                          ,best_params[3]))\n",
    "            break\n"
   ]
  },
  {
   "cell_type": "code",
   "execution_count": null,
   "metadata": {},
   "outputs": [],
   "source": []
  }
 ],
 "metadata": {
  "kernelspec": {
   "display_name": "Python 3",
   "language": "python",
   "name": "python3"
  },
  "language_info": {
   "codemirror_mode": {
    "name": "ipython",
    "version": 2
   },
   "file_extension": ".py",
   "mimetype": "text/x-python",
   "name": "python",
   "nbconvert_exporter": "python",
   "pygments_lexer": "ipython2",
   "version": "2.7.12"
  }
 },
 "nbformat": 4,
 "nbformat_minor": 2
}
